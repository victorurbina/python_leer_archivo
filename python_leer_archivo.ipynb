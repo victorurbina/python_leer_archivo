{
 "cells": [
  {
   "cell_type": "code",
   "execution_count": 65,
   "metadata": {},
   "outputs": [
    {
     "name": "stdout",
     "output_type": "stream",
     "text": [
      "Datos de un archivo en una sola lista:\n",
      "\n",
      "['1', '2', '3', '4', '5', 'a', 'e', 'i', 'o', 'u', 'inglés', 'español', 'portugués', 'arabe', 'ruso', 'a-', 'a1', 'a2', 'b1', 'b2', 'c1', 'c2']\n"
     ]
    }
   ],
   "source": [
    "#1 Datos de un archivo individualizados en una sola lista\n",
    "def datos_archivo_lista():\n",
    "    print(\"Datos de un archivo individualizados en una sola lista:\\n\")\n",
    "    archivo=open(\"./datos.txt\",\"r\")\n",
    "    lista_datos=[]\n",
    "    for lineas in archivo:\n",
    "        sin_saltos=lineas.strip(\"\\n\")\n",
    "        por_reglon=sin_saltos.split(\",\")\n",
    "        lista_datos.extend(por_reglon)\n",
    "    return (lista_datos)"
   ]
  },
  {
   "cell_type": "code",
   "execution_count": 67,
   "metadata": {},
   "outputs": [
    {
     "name": "stdout",
     "output_type": "stream",
     "text": [
      "Datos de un archivo agrupados por reglon en una sola lista:\n",
      "\n",
      "[['1', '2', '3', '4', '5'], ['a', 'e', 'i', 'o', 'u'], ['inglés', 'español', 'portugués', 'arabe', 'ruso'], ['a-', 'a1', 'a2', 'b1', 'b2', 'c1', 'c2']]\n"
     ]
    }
   ],
   "source": [
    "#2.Datos de un archivo agrupados por reglón en una sola lista\n",
    "def filas_archivo_lista():\n",
    "    print(\"Datos de un archivo agrupados por reglón (Filas) en una sola lista:\\n\")\n",
    "    archivo=open(\"./datos.txt\",\"r\")\n",
    "    lista_datos=[]\n",
    "    for lineas in archivo:\n",
    "        sin_saltos=lineas.strip(\"\\n\")\n",
    "        por_reglon=sin_saltos.split(\",\")\n",
    "        lista_datos.append(por_reglon)\n",
    "    return lista_datos"
   ]
  },
  {
   "cell_type": "code",
   "execution_count": 81,
   "metadata": {},
   "outputs": [
    {
     "name": "stdout",
     "output_type": "stream",
     "text": [
      "['1', 'a', 'inglés', '*', '2', 'e', 'español', '$', '3', 'i', 'portugués', '%', '4', 'o', 'arabe', '&', '5', 'u', 'ruso', '°']\n"
     ]
    }
   ],
   "source": [
    "#3.Datos de un archivo por columna en una sola lista\n",
    "def filas_archivo_lista():\n",
    "    archivo=open(\"./datos.txt\",\"r\")\n",
    "    lista_datos=[]\n",
    "    for lineas in archivo:\n",
    "        sin_saltos=lineas.strip(\"\\n\")\n",
    "        por_reglon=sin_saltos.split(\",\")\n",
    "        lista_datos.append(por_reglon)\n",
    "    return lista_datos\n",
    "\n",
    "def columnas_archivo_lista():\n",
    "    rta=[]\n",
    "    lista=filas_archivo_lista()\n",
    "    for i in range(len(lista)+1):\n",
    "        for j in range(len(lista)):\n",
    "            rta.append(lista[j][i])        \n",
    "    return rta    \n",
    "print(columnas_archivo_lista())"
   ]
  },
  {
   "cell_type": "code",
   "execution_count": 100,
   "metadata": {},
   "outputs": [
    {
     "name": "stdout",
     "output_type": "stream",
     "text": [
      "[['1', 'a', 'inglés', '*'], ['2', 'e', 'español', '$'], ['3', 'i', 'portugués', '%'], ['4', 'o', 'arabe', '&'], ['5', 'u', 'ruso', '°']]\n"
     ]
    }
   ],
   "source": [
    "#4.Datos de un archivo aprupados por columna en una sola lista\n",
    "def filas_archivo_lista():\n",
    "    archivo=open(\"./datos.txt\",\"r\")\n",
    "    lista_datos=[]\n",
    "    for lineas in archivo:\n",
    "        sin_saltos=lineas.strip(\"\\n\")\n",
    "        por_reglon=sin_saltos.split(\",\")\n",
    "        lista_datos.append(por_reglon)\n",
    "    return lista_datos\n",
    "\n",
    "def columnas_archivo_lista():\n",
    "    columna=[]\n",
    "    lista=filas_archivo_lista()\n",
    "    for i in range(len(lista)+1):\n",
    "        temp=[]\n",
    "        for j in range(4):\n",
    "            temp.append(lista[j][i])\n",
    "        columna.append(temp) \n",
    "    return columna  \n",
    "print(columnas_archivo_lista())"
   ]
  },
  {
   "cell_type": "code",
   "execution_count": 128,
   "metadata": {},
   "outputs": [
    {
     "name": "stdout",
     "output_type": "stream",
     "text": [
      "hola\n"
     ]
    }
   ],
   "source": [
    "def escribir_texto_archivo():\n",
    "    f=open(\"./escrito.txt\",\"w\")\n",
    "    texto=\"hola\"\n",
    "    f.write(texto)\n",
    "    #la siguiente instruccion para pasar de linea\n",
    "    f.write(\"\\n\")\n",
    "    print (texto)\n",
    "escribir_texto_archivo()"
   ]
  },
  {
   "cell_type": "code",
   "execution_count": 129,
   "metadata": {},
   "outputs": [
    {
     "name": "stdout",
     "output_type": "stream",
     "text": [
      "[[0, 0, 0, 0, 0], [0, 0, 0, 0, 0], [0, 0, 0, 0, 0], [0, 0, 0, 0, 0], [0, 0, 0, 0, 0]]\n"
     ]
    }
   ],
   "source": [
    "def escribir_matriz_archivo():\n",
    "    f=open(\"./escrito.txt\",\"w\")\n",
    "    matriz=[[0 for i in range(5)]for j in range(5)]\n",
    "    for reglon in matriz:\n",
    "        f.write(str(reglon))\n",
    "        #la siguiente instruccion para pasar de linea\n",
    "        f.write(\"\\n\")\n",
    "    print (matriz)\n",
    "escribir_matriz_archivo()"
   ]
  },
  {
   "cell_type": "code",
   "execution_count": null,
   "metadata": {},
   "outputs": [],
   "source": []
  }
 ],
 "metadata": {
  "kernelspec": {
   "display_name": "Python 3",
   "language": "python",
   "name": "python3"
  },
  "language_info": {
   "codemirror_mode": {
    "name": "ipython",
    "version": 3
   },
   "file_extension": ".py",
   "mimetype": "text/x-python",
   "name": "python",
   "nbconvert_exporter": "python",
   "pygments_lexer": "ipython3",
   "version": "3.7.3"
  }
 },
 "nbformat": 4,
 "nbformat_minor": 2
}
